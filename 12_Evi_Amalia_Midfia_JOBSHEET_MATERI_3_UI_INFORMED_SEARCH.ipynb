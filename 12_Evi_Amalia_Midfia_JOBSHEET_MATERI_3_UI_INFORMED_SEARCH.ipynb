{
  "nbformat": 4,
  "nbformat_minor": 0,
  "metadata": {
    "colab": {
      "provenance": [],
      "collapsed_sections": [],
      "authorship_tag": "ABX9TyONd055VDDH75oZmwyQwmac",
      "include_colab_link": true
    },
    "kernelspec": {
      "name": "python3",
      "display_name": "Python 3"
    },
    "language_info": {
      "name": "python"
    }
  },
  "cells": [
    {
      "cell_type": "markdown",
      "metadata": {
        "id": "view-in-github",
        "colab_type": "text"
      },
      "source": [
        "<a href=\"https://colab.research.google.com/github/evi03/KECERDASAN-BUATAN/blob/main/12_Evi_Amalia_Midfia_JOBSHEET_MATERI_3_UI_INFORMED_SEARCH.ipynb\" target=\"_parent\"><img src=\"https://colab.research.google.com/assets/colab-badge.svg\" alt=\"Open In Colab\"/></a>"
      ]
    },
    {
      "cell_type": "markdown",
      "source": [
        "**1.3 Percobaan 1 - Breadth-First Search**\n"
      ],
      "metadata": {
        "id": "MBll9LlUYV9S"
      }
    },
    {
      "cell_type": "code",
      "source": [
        "graph = {\n",
        "    'A' : ['B', 'C'],\n",
        "    'B' : ['D', 'E'],\n",
        "    'C' : ['F'],\n",
        "    'D' : [],\n",
        "    'E' : ['F'],\n",
        "    'F' : ['H'],\n",
        "    'G' : ['H'],\n",
        "    'H' : ['G']\n",
        "}\n",
        "\n",
        "visited = [] # list to keep track of visited nodes.\n",
        "queue = [] #Intialize a queue\n",
        "\n",
        "def bfs(visited, graph, node):\n",
        "  visited.append(node)\n",
        "  queue.append(node)\n",
        "\n",
        "  while queue:\n",
        "    s = queue.pop(0)\n",
        "    print (s, end = \" \")\n",
        "\n",
        "    for neighbour in graph[s]:\n",
        "      if neighbour not in visited:\n",
        "        visited.append(neighbour)\n",
        "        queue.append(neighbour)\n",
        "\n",
        "print(\"Hasil Penulusuran graf menggunakan BFS : \")\n",
        "bfs(visited, graph, 'A')"
      ],
      "metadata": {
        "colab": {
          "base_uri": "https://localhost:8080/"
        },
        "id": "vq7LWwD38ZMM",
        "outputId": "87ddd8a0-a46a-42ff-c63d-7afbad139237"
      },
      "execution_count": 12,
      "outputs": [
        {
          "output_type": "stream",
          "name": "stdout",
          "text": [
            "Hasil Penulusuran graf menggunakan BFS : \n",
            "A B C D E F H G "
          ]
        }
      ]
    },
    {
      "cell_type": "markdown",
      "source": [
        "**1.4 Praktikum 2 - Depth-First Search**\n"
      ],
      "metadata": {
        "id": "3vopHFuKYcRb"
      }
    },
    {
      "cell_type": "code",
      "execution_count": 3,
      "metadata": {
        "colab": {
          "base_uri": "https://localhost:8080/"
        },
        "id": "HYiDZyur4dA-",
        "outputId": "64f16bcf-06d9-4915-a187-cb33602d56b3"
      },
      "outputs": [
        {
          "output_type": "stream",
          "name": "stdout",
          "text": [
            "hasil penulusuran graf menggunakan DFS : \n",
            "A\n",
            "B\n",
            "D\n",
            "E\n",
            "F\n",
            "H\n",
            "G\n",
            "C\n"
          ]
        }
      ],
      "source": [
        "graph ={\n",
        "    'A' : ['B','C'],\n",
        "    'B' : ['D', 'E'],\n",
        "    'C' : ['F'],\n",
        "    'D' : [],\n",
        "    'E' : ['F'],\n",
        "    'F' : ['H'],\n",
        "    'G' : ['H'],\n",
        "    'H' : ['G']\n",
        "}\n",
        "\n",
        "visited = set()\n",
        "\n",
        "def dfs(visited, graph, node):\n",
        "  if node not in visited:\n",
        "    print(node)\n",
        "    visited.add(node)\n",
        "    for neighbour in graph[node]:\n",
        "      dfs(visited, graph, neighbour)\n",
        "\n",
        "print(\"hasil penulusuran graf menggunakan DFS : \")\n",
        "dfs(visited, graph, 'A')"
      ]
    },
    {
      "cell_type": "markdown",
      "source": [
        "**PERTANYAAN PRAKTIKUM 2**"
      ],
      "metadata": {
        "id": "JNVl41uPY9p8"
      }
    },
    {
      "cell_type": "code",
      "source": [
        "graph ={\n",
        "    'A' : ['B','C'],\n",
        "    'B' : ['C', 'D', 'E'],\n",
        "    'C' : ['F'],\n",
        "    'D' : [],\n",
        "    'E' : ['F'],\n",
        "    'F' : ['H'],\n",
        "    'G' : ['H'],\n",
        "    'H' : ['G']\n",
        "}\n",
        "\n",
        "visited = set()\n",
        "\n",
        "def dfs(visited, graph, node):\n",
        "  if node not in visited:\n",
        "    print(node)\n",
        "    visited.add(node)\n",
        "    for neighbour in graph[node]:\n",
        "      dfs(visited, graph, neighbour)\n",
        "\n",
        "print(\"hasil penulusuran graf menggunakan DFS : \")\n",
        "dfs(visited, graph, 'A')"
      ],
      "metadata": {
        "colab": {
          "base_uri": "https://localhost:8080/"
        },
        "id": "BZq6EUynY9JE",
        "outputId": "8e7e8a5e-7d08-4df3-e9b9-03b7c521ee3a"
      },
      "execution_count": 13,
      "outputs": [
        {
          "output_type": "stream",
          "name": "stdout",
          "text": [
            "hasil penulusuran graf menggunakan DFS : \n",
            "A\n",
            "B\n",
            "C\n",
            "F\n",
            "H\n",
            "G\n",
            "D\n",
            "E\n"
          ]
        }
      ]
    },
    {
      "cell_type": "markdown",
      "source": [
        "**TUGAS 1 BFS**"
      ],
      "metadata": {
        "id": "PEAeBFqIYqPq"
      }
    },
    {
      "cell_type": "code",
      "source": [
        "graph = {\n",
        "    'A' : ['B', 'E', 'F'],\n",
        "    'B' : ['F', 'G'],\n",
        "    'C' : ['D', 'G'],\n",
        "    'D' : ['H'],\n",
        "    'E' : ['F'],\n",
        "    'F' : ['B', 'E'],\n",
        "    'G' : ['C', 'H'],\n",
        "    'H' : ['D', 'G']\n",
        "}\n",
        "\n",
        "visited = [] # list to keep track of visited nodes.\n",
        "queue = [] #Intialize a queue\n",
        "\n",
        "def bfs(visited, graph, node):\n",
        "  visited.append(node)\n",
        "  queue.append(node)\n",
        "\n",
        "  while queue:\n",
        "    s = queue.pop(0)\n",
        "    print (s, end = \" \")\n",
        "\n",
        "    for neighbour in graph[s]:\n",
        "      if neighbour not in visited:\n",
        "        visited.append(neighbour)\n",
        "        queue.append(neighbour)\n",
        "\n",
        "print(\"Hasil Penulusuran graf menggunakan BFS : \")\n",
        "bfs(visited, graph, 'A')"
      ],
      "metadata": {
        "colab": {
          "base_uri": "https://localhost:8080/"
        },
        "id": "AGHY1pQpI1Tt",
        "outputId": "936e930b-55d2-4af2-eda5-2739885183de"
      },
      "execution_count": 1,
      "outputs": [
        {
          "output_type": "stream",
          "name": "stdout",
          "text": [
            "Hasil Penulusuran graf menggunakan BFS : \n",
            "A B E F G C H D "
          ]
        }
      ]
    },
    {
      "cell_type": "markdown",
      "source": [
        "**TUGAS 1 DFS**"
      ],
      "metadata": {
        "id": "nH-o8dGcYwZS"
      }
    },
    {
      "cell_type": "code",
      "source": [
        "graph ={\n",
        "    'A' : ['B', 'E', 'F'],\n",
        "    'B' : ['G'],\n",
        "    'C' : ['D'],\n",
        "    'D' : ['H'],\n",
        "    'E' : ['F'],\n",
        "    'F' : ['B'],\n",
        "    'G' : ['C', 'H'],\n",
        "    'H' : ['D']\n",
        "}\n",
        "\n",
        "visited = set()\n",
        "\n",
        "def dfs(visited, graph, node):\n",
        "  if node not in visited:\n",
        "    print(node)\n",
        "    visited.add(node)\n",
        "    for neighbour in graph[node]:\n",
        "      dfs(visited, graph, neighbour)\n",
        "\n",
        "print(\"hasil penulusuran graf menggunakan DFS : \")\n",
        "dfs(visited, graph, 'A')"
      ],
      "metadata": {
        "colab": {
          "base_uri": "https://localhost:8080/"
        },
        "id": "xpq0sKMfLqVT",
        "outputId": "48704d30-580a-43da-9801-eaf59c66298b"
      },
      "execution_count": 12,
      "outputs": [
        {
          "output_type": "stream",
          "name": "stdout",
          "text": [
            "hasil penulusuran graf menggunakan DFS : \n",
            "A\n",
            "B\n",
            "G\n",
            "C\n",
            "D\n",
            "H\n",
            "E\n",
            "F\n"
          ]
        }
      ]
    },
    {
      "cell_type": "markdown",
      "source": [
        "**TUGAS 2 BFS**"
      ],
      "metadata": {
        "id": "GC_okCx1aJX3"
      }
    },
    {
      "cell_type": "code",
      "source": [
        "graph = {\n",
        "    'A' : ['B'],\n",
        "    'B' : ['A', 'F', 'G'],\n",
        "    'C' : ['D', 'G'],\n",
        "    'D' : ['C', 'H'],\n",
        "    'E' : ['F'],\n",
        "    'F' : ['B', 'E'],\n",
        "    'G' : ['B', 'C'],\n",
        "    'H' : ['D']\n",
        "}\n",
        "\n",
        "visited = [] # list to keep track of visited nodes.\n",
        "queue = [] #Intialize a queue\n",
        "\n",
        "def bfs(visited, graph, node):\n",
        "  visited.append(node)\n",
        "  queue.append(node)\n",
        "\n",
        "  while queue:\n",
        "    s = queue.pop(0)\n",
        "    print (s, end = \" \")\n",
        "    if s == 'D':\n",
        "      break\n",
        "\n",
        "    for neighbour in graph[s]:\n",
        "      if neighbour not in visited:\n",
        "        visited.append(neighbour)\n",
        "        queue.append(neighbour)\n",
        "\n",
        "print(\"Hasil Penulusuran graf menggunakan BFS : \")\n",
        "bfs(visited, graph, 'A')"
      ],
      "metadata": {
        "colab": {
          "base_uri": "https://localhost:8080/"
        },
        "id": "TI0egs7ZNc4E",
        "outputId": "93f9b989-767d-4e54-d3a5-a2230f274580"
      },
      "execution_count": 17,
      "outputs": [
        {
          "output_type": "stream",
          "name": "stdout",
          "text": [
            "Hasil Penulusuran graf menggunakan BFS : \n",
            "A B F G E C D "
          ]
        }
      ]
    },
    {
      "cell_type": "markdown",
      "source": [
        "**TUGAS 2 DFS**"
      ],
      "metadata": {
        "id": "-EwLYq5JYUSd"
      }
    },
    {
      "cell_type": "code",
      "source": [
        "graph ={\n",
        "    'A' : ['B'],\n",
        "    'B' : ['F', 'E', 'G'],\n",
        "    'C' : ['D', 'G'],\n",
        "    'D' : ['H'],\n",
        "    'E' : ['F'],\n",
        "    'F' : ['E'],\n",
        "    'G' : ['C'],\n",
        "    'H' : ['D']\n",
        "}\n",
        "\n",
        "visited = set()\n",
        "\n",
        "def dfs(visited, graph, node):\n",
        "  if node not in visited:\n",
        "    print(node)\n",
        "    visited.add(node)\n",
        "    if node == 'D':\n",
        "      return\n",
        "    for neighbour in graph[node]:\n",
        "      dfs(visited, graph, neighbour)\n",
        "\n",
        "print(\"hasil penulusuran graf menggunakan DFS : \")\n",
        "dfs(visited, graph, 'A')"
      ],
      "metadata": {
        "colab": {
          "base_uri": "https://localhost:8080/"
        },
        "id": "_WWFGQi3OZPy",
        "outputId": "41401a9b-7b9a-493e-b3f7-f0b0b6291bfa"
      },
      "execution_count": 21,
      "outputs": [
        {
          "output_type": "stream",
          "name": "stdout",
          "text": [
            "hasil penulusuran graf menggunakan DFS : \n",
            "A\n",
            "B\n",
            "F\n",
            "E\n",
            "G\n",
            "C\n",
            "D\n"
          ]
        }
      ]
    }
  ]
}